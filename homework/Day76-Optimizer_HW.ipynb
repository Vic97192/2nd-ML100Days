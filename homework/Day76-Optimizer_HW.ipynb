{
 "cells": [
  {
   "cell_type": "markdown",
   "metadata": {},
   "source": [
    "\n",
    "# 作業: \n",
    "    \n",
    "    (1)以, Adam, 為例, 調整 batch_size, epoch , 觀察accurancy, loss 的變化\n",
    "    \n",
    "    (2)以同一模型, 分別驗證 SGD, Adam, Rmsprop 的 accurancy"
   ]
  },
  {
   "cell_type": "code",
   "execution_count": 1,
   "metadata": {},
   "outputs": [
    {
     "name": "stderr",
     "output_type": "stream",
     "text": [
      "Using TensorFlow backend.\n"
     ]
    }
   ],
   "source": [
    "import keras\n",
    "#from keras.datasets import cifar10\n",
    "from keras.datasets import mnist \n",
    "from keras.preprocessing.image import ImageDataGenerator\n",
    "from keras.models import Sequential, load_model\n",
    "from keras.layers import Dense, Dropout, Activation, Flatten\n",
    "from keras.layers import Conv2D, MaxPooling2D\n",
    "from keras import optimizers\n",
    "from keras.callbacks import EarlyStopping, ModelCheckpoint\n",
    "import numpy \n"
   ]
  },
  {
   "cell_type": "code",
   "execution_count": 2,
   "metadata": {},
   "outputs": [],
   "source": [
    "#    第一步：選擇模型, 順序模型是多個網絡層的線性堆疊\n",
    " \n",
    "model = Sequential()\n",
    "\n",
    "#   第二步：構建網絡層\n",
    " \n",
    "model.add(Dense( 500,input_shape=(784,))) # 輸入層，28*28=784   \n",
    "model.add(Activation('relu')) # 激活函數是relu   \n",
    "\n",
    "model.add(Dense( 500)) # 隱藏層節點500個   \n",
    "model.add(Activation('relu'))  \n",
    "\n",
    "model.add(Dense( 500)) # 隱藏層節點500個   \n",
    "model.add(Activation('relu'))  \n",
    "\n",
    "model.add(Dense( 500)) # 隱藏層節點500個   \n",
    "model.add(Activation('relu'))  \n",
    "\n",
    "model.add(Dense( 10)) # 輸出結果是10個類別，所以維度是10   \n",
    "model.add(Activation('softmax')) # 最後一層用softmax作為激活函數"
   ]
  },
  {
   "cell_type": "code",
   "execution_count": 3,
   "metadata": {},
   "outputs": [
    {
     "name": "stdout",
     "output_type": "stream",
     "text": [
      "Total Parameters：1149010\n"
     ]
    }
   ],
   "source": [
    "# 模型建立完成後，統計參數總量\n",
    "print(\"Total Parameters：%d\" % model.count_params())"
   ]
  },
  {
   "cell_type": "code",
   "execution_count": 4,
   "metadata": {},
   "outputs": [
    {
     "name": "stdout",
     "output_type": "stream",
     "text": [
      "_________________________________________________________________\n",
      "Layer (type)                 Output Shape              Param #   \n",
      "=================================================================\n",
      "dense_1 (Dense)              (None, 500)               392500    \n",
      "_________________________________________________________________\n",
      "activation_1 (Activation)    (None, 500)               0         \n",
      "_________________________________________________________________\n",
      "dense_2 (Dense)              (None, 500)               250500    \n",
      "_________________________________________________________________\n",
      "activation_2 (Activation)    (None, 500)               0         \n",
      "_________________________________________________________________\n",
      "dense_3 (Dense)              (None, 500)               250500    \n",
      "_________________________________________________________________\n",
      "activation_3 (Activation)    (None, 500)               0         \n",
      "_________________________________________________________________\n",
      "dense_4 (Dense)              (None, 500)               250500    \n",
      "_________________________________________________________________\n",
      "activation_4 (Activation)    (None, 500)               0         \n",
      "_________________________________________________________________\n",
      "dense_5 (Dense)              (None, 10)                5010      \n",
      "_________________________________________________________________\n",
      "activation_5 (Activation)    (None, 10)                0         \n",
      "=================================================================\n",
      "Total params: 1,149,010\n",
      "Trainable params: 1,149,010\n",
      "Non-trainable params: 0\n",
      "_________________________________________________________________\n"
     ]
    }
   ],
   "source": [
    "# 輸出模型摘要資訊\n",
    "model.summary()"
   ]
  },
  {
   "cell_type": "code",
   "execution_count": 5,
   "metadata": {},
   "outputs": [],
   "source": [
    " '''\n",
    " SGD(隨機梯度下降) - Arguments\n",
    "lr: float >= 0. Learning rate.\n",
    "momentum: float >= 0. Parameter that accelerates SGD in the relevant direction and dampens oscillations.\n",
    "decay: float >= 0. Learning rate decay over each update.\n",
    "nesterov: boolean. Whether to apply Nesterov momentum.\n",
    "'''\n",
    "\n",
    "'''\n",
    "RMSprop- Arguments\n",
    "lr: float >= 0. Learning rate.\n",
    "rho: float >= 0.\n",
    "epsilon: float >= 0. Fuzz factor. If None, defaults to K.epsilon().\n",
    "decay: float >= 0. Learning rate decay over each update.\n",
    "'''\n",
    "opt = optimizers.SGD(lr=0.001, momentum=0.9, decay=0.0001, nesterov=True)"
   ]
  },
  {
   "cell_type": "code",
   "execution_count": 6,
   "metadata": {},
   "outputs": [],
   "source": [
    "# 第三步：編譯, \n",
    "model.compile(optimizer = opt, loss = 'binary_crossentropy', metrics = ['accuracy'])"
   ]
  },
  {
   "cell_type": "code",
   "execution_count": 6,
   "metadata": {},
   "outputs": [],
   "source": [
    "#  第四步：資料分割\n",
    "# 使用Keras自帶的mnist工具讀取數據（第一次需要聯網）\n",
    "(X_train, y_train), (X_test, y_test) = mnist.load_data() \n",
    "\n",
    "# 由於mist的輸入數據維度是(num, 28 , 28)，這裡需要把後面的維度直接拼起來變成784維   \n",
    "X_train = X_train.reshape(X_train.shape[0], X_train.shape[1] * X_train.shape[2 ])\n",
    "X_test = X_test.reshape(X_test.shape[0], X_test.shape[1] * X_test.shape[2 ])  \n",
    "Y_train = (numpy.arange(10) == y_train[:, None]).astype(int)\n",
    "Y_test = (numpy.arange(10) == y_test[:, None]).astype(int)\n"
   ]
  },
  {
   "cell_type": "code",
   "execution_count": 8,
   "metadata": {},
   "outputs": [],
   "source": [
    "\n",
    "'''\n",
    "   宣告並設定\n",
    "   batch_size：對總的樣本數進行分組，每組包含的樣本數量\n",
    "   epochs ：訓練次數\n",
    "   \n",
    "''' \n",
    "batch_size = 64\n",
    "epochs = 20"
   ]
  },
  {
   "cell_type": "code",
   "execution_count": 9,
   "metadata": {},
   "outputs": [
    {
     "name": "stdout",
     "output_type": "stream",
     "text": [
      "Train on 42000 samples, validate on 18000 samples\n",
      "Epoch 1/20\n",
      " - 21s - loss: 0.5553 - acc: 0.9471 - val_loss: 0.0898 - val_acc: 0.9789\n",
      "Epoch 2/20\n",
      " - 11s - loss: 0.0523 - acc: 0.9868 - val_loss: 0.0512 - val_acc: 0.9860\n",
      "Epoch 3/20\n",
      " - 11s - loss: 0.0248 - acc: 0.9929 - val_loss: 0.0442 - val_acc: 0.9883\n",
      "Epoch 4/20\n",
      " - 11s - loss: 0.0135 - acc: 0.9961 - val_loss: 0.0404 - val_acc: 0.9888\n",
      "Epoch 5/20\n",
      " - 11s - loss: 0.0078 - acc: 0.9980 - val_loss: 0.0392 - val_acc: 0.9895\n",
      "Epoch 6/20\n",
      " - 11s - loss: 0.0049 - acc: 0.9990 - val_loss: 0.0385 - val_acc: 0.9897\n",
      "Epoch 7/20\n",
      " - 11s - loss: 0.0033 - acc: 0.9994 - val_loss: 0.0378 - val_acc: 0.9897\n",
      "Epoch 8/20\n",
      " - 11s - loss: 0.0024 - acc: 0.9996 - val_loss: 0.0381 - val_acc: 0.9900\n",
      "Epoch 9/20\n",
      " - 11s - loss: 0.0018 - acc: 0.9998 - val_loss: 0.0382 - val_acc: 0.9900\n",
      "Epoch 10/20\n",
      " - 11s - loss: 0.0014 - acc: 0.9999 - val_loss: 0.0386 - val_acc: 0.9900\n",
      "Epoch 11/20\n",
      " - 10s - loss: 0.0012 - acc: 0.9999 - val_loss: 0.0384 - val_acc: 0.9902\n",
      "Epoch 12/20\n",
      " - 10s - loss: 0.0011 - acc: 0.9999 - val_loss: 0.0383 - val_acc: 0.9902\n",
      "Epoch 13/20\n",
      " - 11s - loss: 9.6426e-04 - acc: 0.9999 - val_loss: 0.0384 - val_acc: 0.9902\n",
      "Epoch 14/20\n",
      " - 11s - loss: 8.7310e-04 - acc: 1.0000 - val_loss: 0.0386 - val_acc: 0.9904\n",
      "Epoch 15/20\n",
      " - 10s - loss: 8.0860e-04 - acc: 1.0000 - val_loss: 0.0385 - val_acc: 0.9903\n",
      "Epoch 16/20\n",
      " - 10s - loss: 7.6173e-04 - acc: 1.0000 - val_loss: 0.0387 - val_acc: 0.9905\n",
      "Epoch 17/20\n",
      " - 11s - loss: 7.1835e-04 - acc: 1.0000 - val_loss: 0.0387 - val_acc: 0.9905\n",
      "Epoch 18/20\n",
      " - 10s - loss: 6.8683e-04 - acc: 1.0000 - val_loss: 0.0387 - val_acc: 0.9905\n",
      "Epoch 19/20\n",
      " - 10s - loss: 6.5800e-04 - acc: 1.0000 - val_loss: 0.0389 - val_acc: 0.9905\n",
      "Epoch 20/20\n",
      " - 11s - loss: 6.3589e-04 - acc: 1.0000 - val_loss: 0.0388 - val_acc: 0.9906\n"
     ]
    }
   ],
   "source": [
    "# 第五步：訓練, 修正 model 參數\n",
    "#Blas GEMM launch failed , 避免動態分配GPU / CPU, 出現問題\n",
    "import tensorflow as tf\n",
    "gpu_options = tf.GPUOptions(per_process_gpu_memory_fraction=0.333)\n",
    "sess = tf.Session(config=tf.ConfigProto(gpu_options=gpu_options))\n",
    "\n",
    "\n",
    "history = model.fit(X_train,Y_train,batch_size = batch_size, epochs=epochs, shuffle=True,verbose=2,validation_split=0.3 )"
   ]
  },
  {
   "cell_type": "code",
   "execution_count": 10,
   "metadata": {},
   "outputs": [
    {
     "name": "stdout",
     "output_type": "stream",
     "text": [
      " test set \n",
      "\n",
      " The test loss is %f  [0.03580972717376426, 0.9910400152206421]\n",
      "\n",
      " The accuracy of the model is 0.954300 \n"
     ]
    }
   ],
   "source": [
    "#    第六步：輸出\n",
    " \n",
    "print ( \" test set \" )\n",
    "scores = model.evaluate(X_test,Y_test,batch_size=200,verbose= 0)\n",
    "print ( \"\" )\n",
    "#print ( \" The test loss is %f \" % scores)\n",
    "print ( \" The test loss is %f \", scores)\n",
    "result = model.predict(X_test,batch_size=200,verbose= 0)\n",
    "\n",
    "result_max = numpy.argmax(result, axis = 1 )\n",
    "test_max = numpy.argmax(Y_test, axis = 1 )\n",
    "\n",
    "result_bool = numpy.equal(result_max, test_max)\n",
    "true_num = numpy.sum(result_bool)\n",
    "print ( \"\" )\n",
    "print ( \" The accuracy of the model is %f \" % (true_num/len(result_bool)))"
   ]
  },
  {
   "cell_type": "code",
   "execution_count": 11,
   "metadata": {},
   "outputs": [
    {
     "data": {
      "image/png": "[encoded data removed]",
      "text/plain": [
       "<Figure size 432x288 with 1 Axes>"
      ]
     },
     "metadata": {
      "needs_background": "light"
     },
     "output_type": "display_data"
    },
    {
     "data": {
      "image/png": "[encoded data removed]",
      "text/plain": [
       "<Figure size 432x288 with 1 Axes>"
      ]
     },
     "metadata": {
      "needs_background": "light"
     },
     "output_type": "display_data"
    }
   ],
   "source": [
    "import matplotlib.pyplot as plt\n",
    "\n",
    "%matplotlib inline\n",
    "\n",
    "# history = model.fit(x, y, validation_split=0.25, epochs=50, batch_size=16, verbose=1)\n",
    "\n",
    "# Plot training & validation accuracy values\n",
    "plt.plot(history.history['acc'])\n",
    "plt.plot(history.history['val_acc'])\n",
    "plt.title('Model accuracy')\n",
    "plt.ylabel('Accuracy')\n",
    "plt.xlabel('Epoch')\n",
    "plt.legend(['Train', 'Test'], loc='upper left')\n",
    "plt.show()\n",
    "\n",
    "# Plot training & validation loss values\n",
    "plt.plot(history.history['loss'])\n",
    "plt.plot(history.history['val_loss'])\n",
    "plt.title('Model loss')\n",
    "plt.ylabel('Loss')\n",
    "plt.xlabel('Epoch')\n",
    "plt.legend(['Train', 'Test'], loc='upper left')\n",
    "plt.show()"
   ]
  },
  {
   "cell_type": "code",
   "execution_count": 9,
   "metadata": {},
   "outputs": [
    {
     "name": "stdout",
     "output_type": "stream",
     "text": [
      "Train on 42000 samples, validate on 18000 samples\n",
      "Epoch 1/20\n",
      " - 14s - loss: 2.8966 - acc: 0.8193 - val_loss: 2.8835 - val_acc: 0.8201\n",
      "Epoch 2/20\n",
      " - 13s - loss: 2.8977 - acc: 0.8192 - val_loss: 2.8835 - val_acc: 0.8201\n",
      "Epoch 3/20\n",
      " - 14s - loss: 2.8977 - acc: 0.8192 - val_loss: 2.8835 - val_acc: 0.8201\n",
      "Epoch 4/20\n",
      " - 13s - loss: 2.8977 - acc: 0.8192 - val_loss: 2.8835 - val_acc: 0.8201\n",
      "Epoch 5/20\n",
      " - 14s - loss: 2.8977 - acc: 0.8192 - val_loss: 2.8835 - val_acc: 0.8201\n",
      "Epoch 6/20\n",
      " - 13s - loss: 2.8977 - acc: 0.8192 - val_loss: 2.8835 - val_acc: 0.8201\n",
      "Epoch 7/20\n",
      " - 13s - loss: 2.8977 - acc: 0.8192 - val_loss: 2.8835 - val_acc: 0.8201\n",
      "Epoch 8/20\n",
      " - 13s - loss: 2.8977 - acc: 0.8192 - val_loss: 2.8835 - val_acc: 0.8201\n",
      "Epoch 9/20\n",
      " - 14s - loss: 2.8977 - acc: 0.8192 - val_loss: 2.8835 - val_acc: 0.8201\n",
      "Epoch 10/20\n",
      " - 14s - loss: 2.8977 - acc: 0.8192 - val_loss: 2.8835 - val_acc: 0.8201\n",
      "Epoch 11/20\n",
      " - 13s - loss: 2.8977 - acc: 0.8192 - val_loss: 2.8835 - val_acc: 0.8201\n",
      "Epoch 12/20\n",
      " - 14s - loss: 2.8977 - acc: 0.8192 - val_loss: 2.8835 - val_acc: 0.8201\n",
      "Epoch 13/20\n",
      " - 14s - loss: 2.8977 - acc: 0.8192 - val_loss: 2.8835 - val_acc: 0.8201\n",
      "Epoch 14/20\n",
      " - 14s - loss: 2.8977 - acc: 0.8192 - val_loss: 2.8835 - val_acc: 0.8201\n",
      "Epoch 15/20\n",
      " - 13s - loss: 2.8977 - acc: 0.8192 - val_loss: 2.8835 - val_acc: 0.8201\n",
      "Epoch 16/20\n",
      " - 13s - loss: 2.8977 - acc: 0.8192 - val_loss: 2.8835 - val_acc: 0.8201\n",
      "Epoch 17/20\n",
      " - 13s - loss: 2.8977 - acc: 0.8192 - val_loss: 2.8835 - val_acc: 0.8201\n",
      "Epoch 18/20\n",
      " - 13s - loss: 2.8977 - acc: 0.8192 - val_loss: 2.8835 - val_acc: 0.8201\n",
      "Epoch 19/20\n",
      " - 13s - loss: 2.8977 - acc: 0.8192 - val_loss: 2.8835 - val_acc: 0.8201\n",
      "Epoch 20/20\n",
      " - 13s - loss: 2.8977 - acc: 0.8192 - val_loss: 2.8835 - val_acc: 0.8201\n"
     ]
    }
   ],
   "source": [
    "import tensorflow as tf\n",
    "\n",
    "opt = optimizers.RMSprop(lr=0.001, rho=0.9, epsilon=None, decay=0.0)\n",
    "model.compile(optimizer = opt, loss = 'binary_crossentropy', metrics = ['accuracy'])\n",
    "gpu_options = tf.GPUOptions(per_process_gpu_memory_fraction=0.333)\n",
    "sess = tf.Session(config=tf.ConfigProto(gpu_options=gpu_options))\n",
    "history = model.fit(X_train,Y_train,batch_size = batch_size, epochs=epochs, shuffle=True,verbose=2,validation_split=0.3 )"
   ]
  },
  {
   "cell_type": "code",
   "execution_count": 11,
   "metadata": {},
   "outputs": [
    {
     "name": "stdout",
     "output_type": "stream",
     "text": [
      " test set \n",
      "\n",
      " The test loss is %f  [2.893778557777405, 0.8194800007343293]\n",
      "\n",
      " The accuracy of the model is 0.097400 \n"
     ]
    }
   ],
   "source": [
    "print ( \" test set \" )\n",
    "scores = model.evaluate(X_test,Y_test,batch_size=200,verbose= 0)\n",
    "print ( \"\" )\n",
    "#print ( \" The test loss is %f \" % scores)\n",
    "print ( \" The test loss is %f \", scores)\n",
    "result = model.predict(X_test,batch_size=200,verbose= 0)\n",
    "\n",
    "result_max = numpy.argmax(result, axis = 1 )\n",
    "test_max = numpy.argmax(Y_test, axis = 1 )\n",
    "\n",
    "result_bool = numpy.equal(result_max, test_max)\n",
    "true_num = numpy.sum(result_bool)\n",
    "print ( \"\" )\n",
    "print ( \" The accuracy of the model is %f \" % (true_num/len(result_bool)))"
   ]
  },
  {
   "cell_type": "code",
   "execution_count": 10,
   "metadata": {},
   "outputs": [
    {
     "data": {
      "image/png": "[encoded data removed]",
      "text/plain": [
       "<Figure size 432x288 with 1 Axes>"
      ]
     },
     "metadata": {
      "needs_background": "light"
     },
     "output_type": "display_data"
    },
    {
     "data": {
      "image/png": "[encoded data removed]",
      "text/plain": [
       "<Figure size 432x288 with 1 Axes>"
      ]
     },
     "metadata": {
      "needs_background": "light"
     },
     "output_type": "display_data"
    }
   ],
   "source": [
    "import matplotlib.pyplot as plt\n",
    "\n",
    "%matplotlib inline\n",
    "\n",
    "# history = model.fit(x, y, validation_split=0.25, epochs=50, batch_size=16, verbose=1)\n",
    "\n",
    "# Plot training & validation accuracy values\n",
    "plt.plot(history.history['acc'])\n",
    "plt.plot(history.history['val_acc'])\n",
    "plt.title('Model accuracy')\n",
    "plt.ylabel('Accuracy')\n",
    "plt.xlabel('Epoch')\n",
    "plt.legend(['Train', 'Test'], loc='upper left')\n",
    "plt.show()\n",
    "\n",
    "# Plot training & validation loss values\n",
    "plt.plot(history.history['loss'])\n",
    "plt.plot(history.history['val_loss'])\n",
    "plt.title('Model loss')\n",
    "plt.ylabel('Loss')\n",
    "plt.xlabel('Epoch')\n",
    "plt.legend(['Train', 'Test'], loc='upper left')\n",
    "plt.show()"
   ]
  },
  {
   "cell_type": "code",
   "execution_count": null,
   "metadata": {},
   "outputs": [],
   "source": []
  }
 ],
 "metadata": {
  "kernelspec": {
   "display_name": "Python 3",
   "language": "python",
   "name": "python3"
  },
  "language_info": {
   "codemirror_mode": {
    "name": "ipython",
    "version": 3
   },
   "file_extension": ".py",
   "mimetype": "text/x-python",
   "name": "python",
   "nbconvert_exporter": "python",
   "pygments_lexer": "ipython3",
   "version": "3.6.6"
  }
 },
 "nbformat": 4,
 "nbformat_minor": 2
}
