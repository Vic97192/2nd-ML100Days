{
 "cells": [
  {
   "cell_type": "markdown",
   "metadata": {},
   "source": [
    "## Work\n",
    "1. 請嘗試將 preproc_x 替換成以每筆資料的 min/max 進行標準化至 -1 ~ 1 間，再進行訓練\n",
    "2. 請嘗試將 mlp 疊更深 (e.g 5~10 層)，進行訓練後觀察 learning curve 的走勢\n",
    "3. (optional) 請改用 GPU 進行訓練 (如果你有 GPU 的話)，比較使用 CPU 與 GPU 的訓練速度"
   ]
  },
  {
   "cell_type": "code",
   "execution_count": 1,
   "metadata": {},
   "outputs": [],
   "source": [
    "## \n",
    "\"\"\"\n",
    "Your code here (optional)\n",
    "確認硬體資源\n",
    "\"\"\"\n"
   ]
  },
  {
   "cell_type": "code",
   "execution_count": 5,
   "metadata": {},
   "outputs": [],
   "source": [
    "import os\n",
    "import keras\n",
    "\n",
    "# 請嘗試設定 GPU：os.environ\n",
    "os.environ[\"CUDA_VISIBLE_DEVICES\"] = \"\""
   ]
  },
  {
   "cell_type": "code",
   "execution_count": 6,
   "metadata": {},
   "outputs": [],
   "source": [
    "train, test = keras.datasets.cifar10.load_data()"
   ]
  },
  {
   "cell_type": "code",
   "execution_count": 7,
   "metadata": {},
   "outputs": [],
   "source": [
    "def preproc_x(x, flatten=True):\n",
    "    x = (x - 128) / 128.\n",
    "    if flatten:\n",
    "        x = x.reshape((len(x), -1))\n",
    "    return x\n",
    "\n",
    "def preproc_y(y, num_classes=10):\n",
    "    if y.shape[-1] == 1:\n",
    "        y = keras.utils.to_categorical(y, num_classes)\n",
    "    return y    "
   ]
  },
  {
   "cell_type": "code",
   "execution_count": 8,
   "metadata": {},
   "outputs": [],
   "source": [
    "x_train, y_train = train\n",
    "x_test, y_test = test\n",
    "\n",
    "# Preproc the inputs\n",
    "x_train = preproc_x(x_train)\n",
    "x_test = preproc_x(x_test)\n",
    "\n",
    "# Preprc the outputs\n",
    "y_train = preproc_y(y_train)\n",
    "y_test = preproc_y(y_test)"
   ]
  },
  {
   "cell_type": "code",
   "execution_count": 10,
   "metadata": {},
   "outputs": [
    {
     "name": "stdout",
     "output_type": "stream",
     "text": [
      "_________________________________________________________________\n",
      "Layer (type)                 Output Shape              Param #   \n",
      "=================================================================\n",
      "input_1 (InputLayer)         (None, 3072)              0         \n",
      "_________________________________________________________________\n",
      "hidden_layer1 (Dense)        (None, 512)               1573376   \n",
      "_________________________________________________________________\n",
      "hidden_layer2 (Dense)        (None, 256)               131328    \n",
      "_________________________________________________________________\n",
      "hidden_layer3 (Dense)        (None, 128)               32896     \n",
      "_________________________________________________________________\n",
      "hidden_layer4 (Dense)        (None, 128)               16512     \n",
      "_________________________________________________________________\n",
      "hidden_layer5 (Dense)        (None, 128)               16512     \n",
      "_________________________________________________________________\n",
      "hidden_layer6 (Dense)        (None, 128)               16512     \n",
      "_________________________________________________________________\n",
      "output (Dense)               (None, 10)                1290      \n",
      "=================================================================\n",
      "Total params: 1,788,426\n",
      "Trainable params: 1,788,426\n",
      "Non-trainable params: 0\n",
      "_________________________________________________________________\n"
     ]
    }
   ],
   "source": [
    "def build_mlp(input_shape, output_units=10, num_neurons=[512, 256, 128, 128, 128, 128]):\n",
    "    input_layer = keras.layers.Input(input_shape)\n",
    "    \n",
    "    for i, n_units in enumerate(num_neurons):\n",
    "        if i == 0:\n",
    "            x = keras.layers.Dense(units=n_units, activation=\"relu\", name=\"hidden_layer\"+str(i+1))(input_layer)\n",
    "        else:\n",
    "            x = keras.layers.Dense(units=n_units, activation=\"relu\", name=\"hidden_layer\"+str(i+1))(x)\n",
    "    \n",
    "    out = keras.layers.Dense(units=output_units, activation=\"softmax\", name=\"output\")(x)\n",
    "    \n",
    "    model = keras.models.Model(inputs=[input_layer], outputs=[out])\n",
    "    return model\n",
    "\n",
    "model = build_mlp(input_shape=x_train.shape[1:])\n",
    "model.summary()"
   ]
  },
  {
   "cell_type": "code",
   "execution_count": 11,
   "metadata": {},
   "outputs": [],
   "source": [
    "## 超參數設定\n",
    "LEARNING_RATE = 0.001\n",
    "EPOCHS = 100\n",
    "BATCH_SIZE = 256"
   ]
  },
  {
   "cell_type": "code",
   "execution_count": 12,
   "metadata": {},
   "outputs": [],
   "source": [
    "optimizer = keras.optimizers.Adam(lr=LEARNING_RATE)\n",
    "model.compile(loss=\"categorical_crossentropy\", metrics=[\"accuracy\"], optimizer=optimizer)"
   ]
  },
  {
   "cell_type": "code",
   "execution_count": 13,
   "metadata": {},
   "outputs": [
    {
     "name": "stdout",
     "output_type": "stream",
     "text": [
      "Train on 50000 samples, validate on 10000 samples\n",
      "Epoch 1/100\n",
      "50000/50000 [==============================] - 93s 2ms/step - loss: 2.1617 - acc: 0.2014 - val_loss: 2.0240 - val_acc: 0.2663\n",
      "Epoch 2/100\n",
      "50000/50000 [==============================] - 9s 180us/step - loss: 1.9920 - acc: 0.2835 - val_loss: 1.9583 - val_acc: 0.2913\n",
      "Epoch 3/100\n",
      "50000/50000 [==============================] - 9s 176us/step - loss: 1.9089 - acc: 0.3164 - val_loss: 1.9048 - val_acc: 0.3035\n",
      "Epoch 4/100\n",
      "50000/50000 [==============================] - 9s 180us/step - loss: 1.8654 - acc: 0.3319 - val_loss: 1.8457 - val_acc: 0.3446\n",
      "Epoch 5/100\n",
      "50000/50000 [==============================] - 9s 177us/step - loss: 1.8225 - acc: 0.3478 - val_loss: 1.8835 - val_acc: 0.3261\n",
      "Epoch 6/100\n",
      "50000/50000 [==============================] - 9s 178us/step - loss: 1.7803 - acc: 0.3639 - val_loss: 1.8343 - val_acc: 0.3447\n",
      "Epoch 7/100\n",
      "50000/50000 [==============================] - 9s 178us/step - loss: 1.7392 - acc: 0.3810 - val_loss: 1.8128 - val_acc: 0.3484\n",
      "Epoch 8/100\n",
      "50000/50000 [==============================] - 9s 179us/step - loss: 1.7187 - acc: 0.3873 - val_loss: 1.7968 - val_acc: 0.3628\n",
      "Epoch 9/100\n",
      "50000/50000 [==============================] - 9s 177us/step - loss: 1.6758 - acc: 0.4034 - val_loss: 1.7842 - val_acc: 0.3656\n",
      "Epoch 10/100\n",
      "50000/50000 [==============================] - 9s 178us/step - loss: 1.6482 - acc: 0.4129 - val_loss: 1.8546 - val_acc: 0.3468\n",
      "Epoch 11/100\n",
      "50000/50000 [==============================] - 9s 179us/step - loss: 1.6215 - acc: 0.4207 - val_loss: 1.8139 - val_acc: 0.3635\n",
      "Epoch 12/100\n",
      "50000/50000 [==============================] - 9s 178us/step - loss: 1.5843 - acc: 0.4346 - val_loss: 1.8394 - val_acc: 0.3665\n",
      "Epoch 13/100\n",
      "50000/50000 [==============================] - 9s 176us/step - loss: 1.5637 - acc: 0.4422 - val_loss: 1.7846 - val_acc: 0.3709\n",
      "Epoch 14/100\n",
      "50000/50000 [==============================] - 9s 177us/step - loss: 1.5248 - acc: 0.4565 - val_loss: 1.8042 - val_acc: 0.3693\n",
      "Epoch 15/100\n",
      "50000/50000 [==============================] - 9s 177us/step - loss: 1.4864 - acc: 0.4706 - val_loss: 1.7907 - val_acc: 0.3730\n",
      "Epoch 16/100\n",
      "50000/50000 [==============================] - 9s 178us/step - loss: 1.4557 - acc: 0.4830 - val_loss: 1.8617 - val_acc: 0.3693\n",
      "Epoch 17/100\n",
      "50000/50000 [==============================] - 9s 178us/step - loss: 1.4323 - acc: 0.4905 - val_loss: 1.8281 - val_acc: 0.3719\n",
      "Epoch 18/100\n",
      "50000/50000 [==============================] - 9s 177us/step - loss: 1.3927 - acc: 0.5018 - val_loss: 1.8836 - val_acc: 0.3705\n",
      "Epoch 19/100\n",
      "50000/50000 [==============================] - 9s 177us/step - loss: 1.3697 - acc: 0.5115 - val_loss: 1.8494 - val_acc: 0.3734\n",
      "Epoch 20/100\n",
      "50000/50000 [==============================] - 9s 179us/step - loss: 1.3307 - acc: 0.5254 - val_loss: 1.9241 - val_acc: 0.3599\n",
      "Epoch 21/100\n",
      "50000/50000 [==============================] - 9s 177us/step - loss: 1.3218 - acc: 0.5281 - val_loss: 1.8849 - val_acc: 0.3771\n",
      "Epoch 22/100\n",
      "50000/50000 [==============================] - 9s 178us/step - loss: 1.2658 - acc: 0.5496 - val_loss: 1.9605 - val_acc: 0.3750\n",
      "Epoch 23/100\n",
      "50000/50000 [==============================] - 9s 177us/step - loss: 1.2310 - acc: 0.5617 - val_loss: 2.0306 - val_acc: 0.3496\n",
      "Epoch 24/100\n",
      "50000/50000 [==============================] - 9s 177us/step - loss: 1.2119 - acc: 0.5708 - val_loss: 2.0160 - val_acc: 0.3731\n",
      "Epoch 25/100\n",
      "50000/50000 [==============================] - 9s 177us/step - loss: 1.1859 - acc: 0.5756 - val_loss: 2.0314 - val_acc: 0.3643\n",
      "Epoch 26/100\n",
      "50000/50000 [==============================] - 9s 177us/step - loss: 1.1447 - acc: 0.5927 - val_loss: 2.0596 - val_acc: 0.3615\n",
      "Epoch 27/100\n",
      "50000/50000 [==============================] - 9s 178us/step - loss: 1.1118 - acc: 0.6006 - val_loss: 2.1080 - val_acc: 0.3621\n",
      "Epoch 28/100\n",
      "50000/50000 [==============================] - 9s 180us/step - loss: 1.0885 - acc: 0.6097 - val_loss: 2.1602 - val_acc: 0.3607\n",
      "Epoch 29/100\n",
      "50000/50000 [==============================] - 9s 178us/step - loss: 1.0481 - acc: 0.6275 - val_loss: 2.1852 - val_acc: 0.3655\n",
      "Epoch 30/100\n",
      "50000/50000 [==============================] - 9s 175us/step - loss: 1.0271 - acc: 0.6354 - val_loss: 2.2345 - val_acc: 0.3608\n",
      "Epoch 31/100\n",
      "50000/50000 [==============================] - 9s 176us/step - loss: 1.0070 - acc: 0.6420 - val_loss: 2.3042 - val_acc: 0.3686\n",
      "Epoch 32/100\n",
      "50000/50000 [==============================] - 9s 178us/step - loss: 0.9836 - acc: 0.6498 - val_loss: 2.2620 - val_acc: 0.3662\n",
      "Epoch 33/100\n",
      "50000/50000 [==============================] - 9s 178us/step - loss: 0.9610 - acc: 0.6573 - val_loss: 2.3029 - val_acc: 0.3608\n",
      "Epoch 34/100\n",
      "50000/50000 [==============================] - 9s 178us/step - loss: 0.9120 - acc: 0.6746 - val_loss: 2.5548 - val_acc: 0.3589\n",
      "Epoch 35/100\n",
      "50000/50000 [==============================] - 9s 177us/step - loss: 0.8995 - acc: 0.6772 - val_loss: 2.4946 - val_acc: 0.3634\n",
      "Epoch 36/100\n",
      "50000/50000 [==============================] - 9s 177us/step - loss: 0.8737 - acc: 0.6873 - val_loss: 2.5223 - val_acc: 0.3642\n",
      "Epoch 37/100\n",
      "50000/50000 [==============================] - 9s 177us/step - loss: 0.8515 - acc: 0.6946 - val_loss: 2.6477 - val_acc: 0.3442\n",
      "Epoch 38/100\n",
      "50000/50000 [==============================] - 9s 176us/step - loss: 0.8112 - acc: 0.7114 - val_loss: 2.6392 - val_acc: 0.3461\n",
      "Epoch 39/100\n",
      "50000/50000 [==============================] - 9s 175us/step - loss: 0.8053 - acc: 0.7129 - val_loss: 2.6517 - val_acc: 0.3553\n",
      "Epoch 40/100\n",
      "50000/50000 [==============================] - 9s 177us/step - loss: 0.7739 - acc: 0.7240 - val_loss: 2.7453 - val_acc: 0.3508\n",
      "Epoch 41/100\n",
      "50000/50000 [==============================] - 9s 175us/step - loss: 0.7705 - acc: 0.7255 - val_loss: 2.8638 - val_acc: 0.3456\n",
      "Epoch 42/100\n",
      "50000/50000 [==============================] - 9s 176us/step - loss: 0.7436 - acc: 0.7344 - val_loss: 2.8007 - val_acc: 0.3499\n",
      "Epoch 43/100\n",
      "50000/50000 [==============================] - 9s 179us/step - loss: 0.7226 - acc: 0.7424 - val_loss: 3.0150 - val_acc: 0.3531\n",
      "Epoch 44/100\n",
      "50000/50000 [==============================] - 9s 174us/step - loss: 0.7232 - acc: 0.7418 - val_loss: 2.9428 - val_acc: 0.3432\n",
      "Epoch 45/100\n",
      "50000/50000 [==============================] - 9s 175us/step - loss: 0.6811 - acc: 0.7564 - val_loss: 3.0738 - val_acc: 0.3452\n",
      "Epoch 46/100\n",
      "50000/50000 [==============================] - 9s 173us/step - loss: 0.6716 - acc: 0.7621 - val_loss: 3.0663 - val_acc: 0.3525\n",
      "Epoch 47/100\n",
      "50000/50000 [==============================] - 9s 174us/step - loss: 0.6666 - acc: 0.7611 - val_loss: 3.2766 - val_acc: 0.3440\n",
      "Epoch 48/100\n",
      "50000/50000 [==============================] - 9s 173us/step - loss: 0.6547 - acc: 0.7669 - val_loss: 3.3105 - val_acc: 0.3379\n",
      "Epoch 49/100\n",
      "50000/50000 [==============================] - 9s 175us/step - loss: 0.6097 - acc: 0.7815 - val_loss: 3.2787 - val_acc: 0.3488\n",
      "Epoch 50/100\n",
      "50000/50000 [==============================] - 9s 173us/step - loss: 0.5989 - acc: 0.7882 - val_loss: 3.2627 - val_acc: 0.3461\n",
      "Epoch 51/100\n",
      "50000/50000 [==============================] - 9s 173us/step - loss: 0.6026 - acc: 0.7843 - val_loss: 3.6202 - val_acc: 0.3397\n",
      "Epoch 52/100\n",
      "50000/50000 [==============================] - 9s 173us/step - loss: 0.5903 - acc: 0.7901 - val_loss: 3.4029 - val_acc: 0.3357\n",
      "Epoch 53/100\n",
      "50000/50000 [==============================] - 9s 173us/step - loss: 0.5682 - acc: 0.8002 - val_loss: 3.5713 - val_acc: 0.3428\n",
      "Epoch 54/100\n",
      "50000/50000 [==============================] - 9s 174us/step - loss: 0.5648 - acc: 0.7998 - val_loss: 3.5518 - val_acc: 0.3334\n",
      "Epoch 55/100\n",
      "50000/50000 [==============================] - 9s 172us/step - loss: 0.5297 - acc: 0.8108 - val_loss: 3.5348 - val_acc: 0.3451\n",
      "Epoch 56/100\n",
      "50000/50000 [==============================] - 9s 176us/step - loss: 0.5428 - acc: 0.8078 - val_loss: 3.5923 - val_acc: 0.3465\n",
      "Epoch 57/100\n",
      "50000/50000 [==============================] - 9s 175us/step - loss: 0.5635 - acc: 0.7997 - val_loss: 3.7848 - val_acc: 0.3356\n",
      "Epoch 58/100\n",
      "50000/50000 [==============================] - 9s 174us/step - loss: 0.5033 - acc: 0.8221 - val_loss: 3.7133 - val_acc: 0.3488\n",
      "Epoch 59/100\n"
     ]
    },
    {
     "name": "stdout",
     "output_type": "stream",
     "text": [
      "50000/50000 [==============================] - 9s 177us/step - loss: 0.4940 - acc: 0.8226 - val_loss: 3.9227 - val_acc: 0.3375\n",
      "Epoch 60/100\n",
      "50000/50000 [==============================] - 9s 175us/step - loss: 0.4923 - acc: 0.8261 - val_loss: 3.9216 - val_acc: 0.3448\n",
      "Epoch 61/100\n",
      "50000/50000 [==============================] - 9s 176us/step - loss: 0.4836 - acc: 0.8308 - val_loss: 3.9851 - val_acc: 0.3372\n",
      "Epoch 62/100\n",
      "50000/50000 [==============================] - 9s 177us/step - loss: 0.4727 - acc: 0.8314 - val_loss: 4.0577 - val_acc: 0.3358\n",
      "Epoch 63/100\n",
      "50000/50000 [==============================] - 9s 175us/step - loss: 0.4930 - acc: 0.8241 - val_loss: 4.1215 - val_acc: 0.3417\n",
      "Epoch 64/100\n",
      "50000/50000 [==============================] - 9s 174us/step - loss: 0.4804 - acc: 0.8285 - val_loss: 4.0552 - val_acc: 0.3378\n",
      "Epoch 65/100\n",
      "50000/50000 [==============================] - 9s 175us/step - loss: 0.4499 - acc: 0.8417 - val_loss: 4.1237 - val_acc: 0.3412\n",
      "Epoch 66/100\n",
      "50000/50000 [==============================] - 9s 176us/step - loss: 0.4144 - acc: 0.8527 - val_loss: 4.2425 - val_acc: 0.3502\n",
      "Epoch 67/100\n",
      "50000/50000 [==============================] - 9s 177us/step - loss: 0.4198 - acc: 0.8514 - val_loss: 4.4156 - val_acc: 0.3387\n",
      "Epoch 68/100\n",
      "50000/50000 [==============================] - 9s 176us/step - loss: 0.4432 - acc: 0.8432 - val_loss: 4.0712 - val_acc: 0.3402\n",
      "Epoch 69/100\n",
      "50000/50000 [==============================] - 9s 177us/step - loss: 0.4433 - acc: 0.8433 - val_loss: 4.1184 - val_acc: 0.3426\n",
      "Epoch 70/100\n",
      "50000/50000 [==============================] - 9s 177us/step - loss: 0.4468 - acc: 0.8424 - val_loss: 4.2640 - val_acc: 0.3352\n",
      "Epoch 71/100\n",
      "50000/50000 [==============================] - 9s 177us/step - loss: 0.4169 - acc: 0.8532 - val_loss: 4.2948 - val_acc: 0.3427\n",
      "Epoch 72/100\n",
      "50000/50000 [==============================] - 9s 174us/step - loss: 0.4142 - acc: 0.8530 - val_loss: 4.2338 - val_acc: 0.3492\n",
      "Epoch 73/100\n",
      "50000/50000 [==============================] - 9s 177us/step - loss: 0.3704 - acc: 0.8673 - val_loss: 4.5153 - val_acc: 0.3445\n",
      "Epoch 74/100\n",
      "50000/50000 [==============================] - 9s 176us/step - loss: 0.3764 - acc: 0.8675 - val_loss: 4.4165 - val_acc: 0.3390\n",
      "Epoch 75/100\n",
      "50000/50000 [==============================] - 9s 175us/step - loss: 0.4063 - acc: 0.8562 - val_loss: 4.3456 - val_acc: 0.3375\n",
      "Epoch 76/100\n",
      "50000/50000 [==============================] - 9s 175us/step - loss: 0.4479 - acc: 0.8436 - val_loss: 4.2758 - val_acc: 0.3415\n",
      "Epoch 77/100\n",
      "50000/50000 [==============================] - 9s 176us/step - loss: 0.3469 - acc: 0.8790 - val_loss: 4.5107 - val_acc: 0.3357\n",
      "Epoch 78/100\n",
      "50000/50000 [==============================] - 9s 175us/step - loss: 0.4018 - acc: 0.8590 - val_loss: 4.7457 - val_acc: 0.3407\n",
      "Epoch 79/100\n",
      "50000/50000 [==============================] - 9s 180us/step - loss: 0.4178 - acc: 0.8525 - val_loss: 4.4928 - val_acc: 0.3369\n",
      "Epoch 80/100\n",
      "50000/50000 [==============================] - 9s 174us/step - loss: 0.3243 - acc: 0.8859 - val_loss: 4.7074 - val_acc: 0.3431\n",
      "Epoch 81/100\n",
      "50000/50000 [==============================] - 9s 177us/step - loss: 0.3712 - acc: 0.8702 - val_loss: 4.7576 - val_acc: 0.3328\n",
      "Epoch 82/100\n",
      "50000/50000 [==============================] - 9s 175us/step - loss: 0.3516 - acc: 0.8774 - val_loss: 4.5608 - val_acc: 0.3343\n",
      "Epoch 83/100\n",
      "50000/50000 [==============================] - 9s 175us/step - loss: 0.3350 - acc: 0.8803 - val_loss: 4.6937 - val_acc: 0.3488\n",
      "Epoch 84/100\n",
      "50000/50000 [==============================] - 9s 176us/step - loss: 0.3538 - acc: 0.8763 - val_loss: 4.7599 - val_acc: 0.3361\n",
      "Epoch 85/100\n",
      "50000/50000 [==============================] - 9s 175us/step - loss: 0.3162 - acc: 0.8882 - val_loss: 4.6829 - val_acc: 0.3377\n",
      "Epoch 86/100\n",
      "50000/50000 [==============================] - 9s 175us/step - loss: 0.3931 - acc: 0.8640 - val_loss: 4.6718 - val_acc: 0.3415\n",
      "Epoch 87/100\n",
      "50000/50000 [==============================] - 9s 174us/step - loss: 0.3191 - acc: 0.8889 - val_loss: 4.7812 - val_acc: 0.3291\n",
      "Epoch 88/100\n",
      "50000/50000 [==============================] - 9s 176us/step - loss: 0.3530 - acc: 0.8765 - val_loss: 4.6623 - val_acc: 0.3358\n",
      "Epoch 89/100\n",
      "50000/50000 [==============================] - 9s 175us/step - loss: 0.3542 - acc: 0.8766 - val_loss: 4.7237 - val_acc: 0.3351\n",
      "Epoch 90/100\n",
      "50000/50000 [==============================] - 9s 172us/step - loss: 0.3005 - acc: 0.8947 - val_loss: 4.9569 - val_acc: 0.3413\n",
      "Epoch 91/100\n",
      "50000/50000 [==============================] - 9s 173us/step - loss: 0.3537 - acc: 0.8773 - val_loss: 4.9357 - val_acc: 0.3255\n",
      "Epoch 92/100\n",
      "50000/50000 [==============================] - 9s 172us/step - loss: 0.3362 - acc: 0.8814 - val_loss: 5.0606 - val_acc: 0.3356\n",
      "Epoch 93/100\n",
      "50000/50000 [==============================] - 9s 173us/step - loss: 0.2944 - acc: 0.8970 - val_loss: 5.1105 - val_acc: 0.3387\n",
      "Epoch 94/100\n",
      "50000/50000 [==============================] - 9s 174us/step - loss: 0.3251 - acc: 0.8889 - val_loss: 4.9623 - val_acc: 0.3467\n",
      "Epoch 95/100\n",
      "50000/50000 [==============================] - 9s 173us/step - loss: 0.3089 - acc: 0.8915 - val_loss: 4.6938 - val_acc: 0.3355\n",
      "Epoch 96/100\n",
      "50000/50000 [==============================] - 9s 175us/step - loss: 0.3213 - acc: 0.8889 - val_loss: 4.6144 - val_acc: 0.3371\n",
      "Epoch 97/100\n",
      "50000/50000 [==============================] - 9s 173us/step - loss: 0.2760 - acc: 0.9046 - val_loss: 5.1888 - val_acc: 0.3368\n",
      "Epoch 98/100\n",
      "50000/50000 [==============================] - 9s 174us/step - loss: 0.3230 - acc: 0.8877 - val_loss: 4.7959 - val_acc: 0.3261\n",
      "Epoch 99/100\n",
      "50000/50000 [==============================] - 9s 174us/step - loss: 0.2636 - acc: 0.9087 - val_loss: 5.2696 - val_acc: 0.3367\n",
      "Epoch 100/100\n",
      "50000/50000 [==============================] - 9s 173us/step - loss: 0.2642 - acc: 0.9076 - val_loss: 5.0670 - val_acc: 0.3420\n"
     ]
    },
    {
     "data": {
      "text/plain": [
       "<keras.callbacks.History at 0xe4266c9358>"
      ]
     },
     "execution_count": 13,
     "metadata": {},
     "output_type": "execute_result"
    }
   ],
   "source": [
    "model.fit(x_train, y_train, \n",
    "          epochs=EPOCHS, \n",
    "          batch_size=BATCH_SIZE, \n",
    "          validation_data=(x_test, y_test), \n",
    "          shuffle=True)"
   ]
  },
  {
   "cell_type": "code",
   "execution_count": 15,
   "metadata": {},
   "outputs": [
    {
     "data": {
      "image/png": "[encoded data removed]",
      "text/plain": [
       "<Figure size 432x288 with 1 Axes>"
      ]
     },
     "metadata": {
      "needs_background": "light"
     },
     "output_type": "display_data"
    },
    {
     "data": {
      "image/png": "[encoded data removed]",
      "text/plain": [
       "<Figure size 432x288 with 1 Axes>"
      ]
     },
     "metadata": {
      "needs_background": "light"
     },
     "output_type": "display_data"
    }
   ],
   "source": [
    "import matplotlib.pyplot as plt\n",
    "\n",
    "\n",
    "train_loss = model.history.history[\"loss\"]\n",
    "valid_loss = model.history.history[\"val_loss\"]\n",
    "\n",
    "train_acc = model.history.history[\"acc\"]\n",
    "valid_acc = model.history.history[\"val_acc\"]\n",
    "\n",
    "plt.plot(range(len(train_loss)), train_loss, label=\"train loss\")\n",
    "plt.plot(range(len(valid_loss)), valid_loss, label=\"valid loss\")\n",
    "plt.legend()\n",
    "plt.title(\"Loss\")\n",
    "plt.show()\n",
    "\n",
    "plt.plot(range(len(train_acc)), train_acc, label=\"train accuracy\")\n",
    "plt.plot(range(len(valid_acc)), valid_acc, label=\"valid accuracy\")\n",
    "plt.legend()\n",
    "plt.title(\"Accuracy\")\n",
    "plt.show()"
   ]
  },
  {
   "cell_type": "code",
   "execution_count": null,
   "metadata": {},
   "outputs": [],
   "source": []
  }
 ],
 "metadata": {
  "kernelspec": {
   "display_name": "Python 3",
   "language": "python",
   "name": "python3"
  },
  "language_info": {
   "codemirror_mode": {
    "name": "ipython",
    "version": 3
   },
   "file_extension": ".py",
   "mimetype": "text/x-python",
   "name": "python",
   "nbconvert_exporter": "python",
   "pygments_lexer": "ipython3",
   "version": "3.6.6"
  }
 },
 "nbformat": 4,
 "nbformat_minor": 2
}
