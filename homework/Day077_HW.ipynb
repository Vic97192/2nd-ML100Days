{
 "cells": [
  {
   "cell_type": "markdown",
   "metadata": {},
   "source": [
    "## Work\n",
    "1. 請將 Epoch 加到 500 個，並觀察 learning curve 的走勢\n",
    "2. 請將 Optimizer 換成 SGD，並觀察 learning curve 的走勢"
   ]
  },
  {
   "cell_type": "code",
   "execution_count": 1,
   "metadata": {},
   "outputs": [
    {
     "name": "stderr",
     "output_type": "stream",
     "text": [
      "Using TensorFlow backend.\n"
     ]
    }
   ],
   "source": [
    "import os\n",
    "import keras\n",
    "\n",
    "# 本作業可以不需使用 GPU, 將 GPU 設定為 \"無\" (若有 GPU 且想開啟，可設為 \"0\")\n",
    "os.environ[\"CUDA_VISIBLE_DEVICES\"] = \"0\""
   ]
  },
  {
   "cell_type": "code",
   "execution_count": 2,
   "metadata": {},
   "outputs": [],
   "source": [
    "# 從 Keras 的內建功能中，取得 train 與 test 資料集\n",
    "train, test = keras.datasets.cifar10.load_data()"
   ]
  },
  {
   "cell_type": "code",
   "execution_count": 3,
   "metadata": {},
   "outputs": [],
   "source": [
    "# 將 X 與 Y 獨立放進變數\n",
    "x_train, y_train = train\n",
    "x_test, y_test = test\n",
    "# 資料前處理 - 標準化\n",
    "x_train = x_train / 255.\n",
    "x_test = x_test / 255.\n",
    "\n",
    "# 將資料從圖形 (RGB) 轉為向量 (Single Vector)\n",
    "x_train = x_train.reshape((len(x_train), -1))\n",
    "x_test = x_test.reshape((len(x_test), -1))\n",
    "\n",
    "# 將目標轉為 one-hot encoding\n",
    "y_train = keras.utils.to_categorical(y_train, num_classes=10)\n",
    "y_test = keras.utils.to_categorical(y_test, num_classes=10)"
   ]
  },
  {
   "cell_type": "code",
   "execution_count": 4,
   "metadata": {},
   "outputs": [],
   "source": [
    "def build_mlp():\n",
    "    input_layer = keras.layers.Input([x_train.shape[-1]])\n",
    "    x = keras.layers.Dense(units=512, activation=\"relu\")(input_layer)\n",
    "    x = keras.layers.Dense(units=256, activation=\"relu\")(x)\n",
    "    x = keras.layers.Dense(units=128, activation=\"relu\")(x)\n",
    "    out = keras.layers.Dense(units=10, activation=\"softmax\")(x)\n",
    "    \n",
    "    model = keras.models.Model(inputs=[input_layer], outputs=[out])\n",
    "    return model\n",
    "\n",
    "model = build_mlp()"
   ]
  },
  {
   "cell_type": "code",
   "execution_count": 5,
   "metadata": {},
   "outputs": [],
   "source": [
    "\"\"\"\n",
    "Compile 模型\n",
    "\"\"\"\n",
    "optimizer = keras.optimizers.Adam(lr=0.001)\n",
    "model.compile(loss=\"categorical_crossentropy\", metrics=[\"accuracy\"], optimizer=optimizer)"
   ]
  },
  {
   "cell_type": "code",
   "execution_count": 6,
   "metadata": {
    "scrolled": true
   },
   "outputs": [
    {
     "name": "stdout",
     "output_type": "stream",
     "text": [
      "Train on 50000 samples, validate on 10000 samples\n",
      "Epoch 1/20\n",
      "50000/50000 [==============================] - 297s 6ms/step - loss: 1.9323 - acc: 0.3040 - val_loss: 1.7705 - val_acc: 0.3599\n",
      "Epoch 2/20\n",
      "50000/50000 [==============================] - 9s 171us/step - loss: 1.7050 - acc: 0.3927 - val_loss: 1.6474 - val_acc: 0.4154\n",
      "Epoch 3/20\n",
      "50000/50000 [==============================] - 9s 170us/step - loss: 1.6090 - acc: 0.4283 - val_loss: 1.6037 - val_acc: 0.4336\n",
      "Epoch 4/20\n",
      "50000/50000 [==============================] - 8s 167us/step - loss: 1.5491 - acc: 0.4500 - val_loss: 1.5548 - val_acc: 0.4500\n",
      "Epoch 5/20\n",
      "50000/50000 [==============================] - 8s 168us/step - loss: 1.4953 - acc: 0.4667 - val_loss: 1.4970 - val_acc: 0.4676\n",
      "Epoch 6/20\n",
      "50000/50000 [==============================] - 8s 168us/step - loss: 1.4582 - acc: 0.4829 - val_loss: 1.5134 - val_acc: 0.4654\n",
      "Epoch 7/20\n",
      "50000/50000 [==============================] - 8s 169us/step - loss: 1.4328 - acc: 0.4893 - val_loss: 1.4486 - val_acc: 0.4899\n",
      "Epoch 8/20\n",
      "50000/50000 [==============================] - 8s 168us/step - loss: 1.4073 - acc: 0.4974 - val_loss: 1.4677 - val_acc: 0.4734\n",
      "Epoch 9/20\n",
      "50000/50000 [==============================] - 9s 172us/step - loss: 1.3716 - acc: 0.5129 - val_loss: 1.4272 - val_acc: 0.4885\n",
      "Epoch 10/20\n",
      "50000/50000 [==============================] - 8s 169us/step - loss: 1.3406 - acc: 0.5235 - val_loss: 1.4091 - val_acc: 0.4988\n",
      "Epoch 11/20\n",
      "50000/50000 [==============================] - 8s 166us/step - loss: 1.3147 - acc: 0.5320 - val_loss: 1.3819 - val_acc: 0.5042\n",
      "Epoch 12/20\n",
      "50000/50000 [==============================] - 8s 167us/step - loss: 1.2908 - acc: 0.5415 - val_loss: 1.3832 - val_acc: 0.5034\n",
      "Epoch 13/20\n",
      "50000/50000 [==============================] - 8s 166us/step - loss: 1.2702 - acc: 0.5461 - val_loss: 1.3778 - val_acc: 0.5121\n",
      "Epoch 14/20\n",
      "50000/50000 [==============================] - 8s 166us/step - loss: 1.2420 - acc: 0.5559 - val_loss: 1.3799 - val_acc: 0.5094\n",
      "Epoch 15/20\n",
      "50000/50000 [==============================] - 8s 166us/step - loss: 1.2259 - acc: 0.5653 - val_loss: 1.3591 - val_acc: 0.5239\n",
      "Epoch 16/20\n",
      "50000/50000 [==============================] - 8s 167us/step - loss: 1.1944 - acc: 0.5764 - val_loss: 1.4307 - val_acc: 0.4986\n",
      "Epoch 17/20\n",
      "50000/50000 [==============================] - 8s 165us/step - loss: 1.1850 - acc: 0.5793 - val_loss: 1.3653 - val_acc: 0.5228\n",
      "Epoch 18/20\n",
      "50000/50000 [==============================] - 8s 166us/step - loss: 1.1582 - acc: 0.5873 - val_loss: 1.3918 - val_acc: 0.5112\n",
      "Epoch 19/20\n",
      "50000/50000 [==============================] - 8s 167us/step - loss: 1.1366 - acc: 0.5945 - val_loss: 1.3562 - val_acc: 0.5322\n",
      "Epoch 20/20\n",
      "50000/50000 [==============================] - 8s 167us/step - loss: 1.1167 - acc: 0.6021 - val_loss: 1.4041 - val_acc: 0.5125\n"
     ]
    },
    {
     "data": {
      "text/plain": [
       "<keras.callbacks.History at 0x335cbafc50>"
      ]
     },
     "execution_count": 6,
     "metadata": {},
     "output_type": "execute_result"
    }
   ],
   "source": [
    "\"\"\"\n",
    "設定要訓練的 Epoch 數\n",
    "\"\"\"\n",
    "model.fit(x_train, y_train, \n",
    "          epochs=20, \n",
    "          batch_size=256, \n",
    "          validation_data=(x_test, y_test), \n",
    "          shuffle=True)"
   ]
  },
  {
   "cell_type": "code",
   "execution_count": 8,
   "metadata": {},
   "outputs": [
    {
     "data": {
      "image/png": "[encoded data removed]",
      "text/plain": [
       "<Figure size 432x288 with 1 Axes>"
      ]
     },
     "metadata": {
      "needs_background": "light"
     },
     "output_type": "display_data"
    },
    {
     "data": {
      "image/png": "[encoded data removed]",
      "text/plain": [
       "<Figure size 432x288 with 1 Axes>"
      ]
     },
     "metadata": {
      "needs_background": "light"
     },
     "output_type": "display_data"
    }
   ],
   "source": [
    "import matplotlib.pyplot as plt\n",
    "# 以視覺畫方式檢視訓練過程\n",
    "\n",
    "train_loss = model.history.history[\"loss\"]\n",
    "valid_loss = model.history.history[\"val_loss\"]\n",
    "\n",
    "train_acc = model.history.history[\"acc\"]\n",
    "valid_acc = model.history.history[\"val_acc\"]\n",
    "\n",
    "plt.plot(range(len(train_loss)), train_loss, label=\"train loss\")\n",
    "plt.plot(range(len(valid_loss)), valid_loss, label=\"valid loss\")\n",
    "plt.legend()\n",
    "plt.title(\"Loss\")\n",
    "plt.show()\n",
    "\n",
    "plt.plot(range(len(train_acc)), train_acc, label=\"train accuracy\")\n",
    "plt.plot(range(len(valid_acc)), valid_acc, label=\"valid accuracy\")\n",
    "plt.legend()\n",
    "plt.title(\"Accuracy\")\n",
    "plt.show()"
   ]
  },
  {
   "cell_type": "code",
   "execution_count": null,
   "metadata": {},
   "outputs": [],
   "source": []
  }
 ],
 "metadata": {
  "kernelspec": {
   "display_name": "Python 3",
   "language": "python",
   "name": "python3"
  },
  "language_info": {
   "codemirror_mode": {
    "name": "ipython",
    "version": 3
   },
   "file_extension": ".py",
   "mimetype": "text/x-python",
   "name": "python",
   "nbconvert_exporter": "python",
   "pygments_lexer": "ipython3",
   "version": "3.6.6"
  }
 },
 "nbformat": 4,
 "nbformat_minor": 2
}
